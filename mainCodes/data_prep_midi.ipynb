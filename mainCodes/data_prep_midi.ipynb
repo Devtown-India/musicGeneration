{
 "cells": [
  {
   "cell_type": "markdown",
   "metadata": {},
   "source": [
    "### Importing Statements"
   ]
  },
  {
   "cell_type": "code",
   "execution_count": 57,
   "metadata": {},
   "outputs": [],
   "source": [
    "import numpy as np\n",
    "import pandas as pd\n",
    "import matplotlib.pyplot as plt\n",
    "import os\n",
    "import zipfile as zip_\n",
    "from glob import glob\n",
    "from music21 import *\n",
    "import pickle\n",
    "import seaborn as sns\n",
    "from tensorflow.keras.utils import to_categorical\n",
    "\n",
    "%matplotlib inline"
   ]
  },
  {
   "cell_type": "markdown",
   "metadata": {},
   "source": [
    "### Extracting Data"
   ]
  },
  {
   "cell_type": "code",
   "execution_count": 2,
   "metadata": {},
   "outputs": [],
   "source": [
    "# Path of zip_data  and Path where data is to be extracted\n",
    "working_dir = '../datasets'\n",
    "zip_path = os.path.join(working_dir, 'zip_file/schubert.zip')\n",
    "extraction_path = os.path.join(working_dir, 'midi_data')\n",
    "\n",
    "# Unzipping the Data\n",
    "zip = zip_.ZipFile(zip_path)\n",
    "zip.extractall(extraction_path)"
   ]
  },
  {
   "cell_type": "code",
   "execution_count": 3,
   "metadata": {},
   "outputs": [
    {
     "data": {
      "text/plain": [
       "['schubert_D850_4.mid',\n",
       " 'schubert_D850_1.mid',\n",
       " 'schuim-4.mid',\n",
       " 'schumm-5.mid',\n",
       " 'schumm-2.mid',\n",
       " 'schumm-4.mid',\n",
       " 'schub_d960_1.mid',\n",
       " 'schubert_D935_2.mid',\n",
       " 'schub_d760_1.mid',\n",
       " 'schuim-2.mid',\n",
       " 'schu_143_3.mid',\n",
       " 'schubert_D850_3.mid',\n",
       " 'schub_d960_3.mid',\n",
       " 'schuim-3.mid',\n",
       " 'schubert_D850_2.mid',\n",
       " 'schuim-1.mid',\n",
       " 'schub_d760_3.mid',\n",
       " 'schu_143_2.mid',\n",
       " 'schub_d760_2.mid',\n",
       " 'schumm-1.mid',\n",
       " 'schub_d760_4.mid',\n",
       " 'schubert_D935_4.mid',\n",
       " 'schu_143_1.mid',\n",
       " 'schumm-6.mid',\n",
       " 'schumm-3.mid',\n",
       " 'schubert_D935_1.mid',\n",
       " 'schubert_D935_3.mid',\n",
       " 'schub_d960_2.mid',\n",
       " 'schub_d960_4.mid']"
      ]
     },
     "execution_count": 3,
     "metadata": {},
     "output_type": "execute_result"
    }
   ],
   "source": [
    "# List of extracted files\n",
    "os.listdir(extraction_path)"
   ]
  },
  {
   "cell_type": "markdown",
   "metadata": {},
   "source": [
    "### Loading and Extracting the Data"
   ]
  },
  {
   "cell_type": "code",
   "execution_count": 4,
   "metadata": {},
   "outputs": [
    {
     "data": {
      "text/plain": [
       "3783"
      ]
     },
     "execution_count": 4,
     "metadata": {},
     "output_type": "execute_result"
    }
   ],
   "source": [
    "# Using Music21 Library for reading the midi files\n",
    "# Reading a single File.\n",
    "\n",
    "notes = []\n",
    "notes_to_parse = None\n",
    "\n",
    "file = os.path.join(extraction_path, 'schuim-4.mid')\n",
    "\n",
    "# Parsing a Midi file\n",
    "midi = converter.parse(file)   ############################      type (<class 'music21.stream.Score'>)\n",
    "\n",
    "# Grouping based on different instruments\n",
    "s2 = instrument.partitionByInstrument(midi)   #################      type (<class 'music21.stream.Score'>)\n",
    "\n",
    "# Iterating over all Parts\n",
    "for part in s2.parts:\n",
    "    if \"Piano\" in str(part):\n",
    "        # Getting all the elements to parse.\n",
    "        notes_to_parse = part.recurse()      ##########    type(<class 'music21.stream.iterator.StreamIterator'>)\n",
    "        \n",
    "        # Finding whether the particular element is note or chord\n",
    "        for element in notes_to_parse:\n",
    "            \n",
    "            # Getting Notes\n",
    "            if isinstance(element, note.Note):\n",
    "                notes.append(str(element.pitch))\n",
    "                \n",
    "            # Getting Chord    \n",
    "            if isinstance(element, chord.Chord):\n",
    "                notes.append('.'.join(str(n) for n in element.normalOrder))\n",
    "                \n",
    "notes = np.array(notes)\n",
    "len(notes)"
   ]
  },
  {
   "cell_type": "code",
   "execution_count": 6,
   "metadata": {},
   "outputs": [
    {
     "data": {
      "text/plain": [
       "array(['B5', 'G#2', 'E-6', ..., '3', '8.0.3', '8'], dtype='<U8')"
      ]
     },
     "execution_count": 6,
     "metadata": {},
     "output_type": "execute_result"
    }
   ],
   "source": [
    "# This is the list of notes in one file\n",
    "notes"
   ]
  },
  {
   "cell_type": "code",
   "execution_count": 7,
   "metadata": {},
   "outputs": [],
   "source": [
    "# reading all files\n",
    "def read_files(file):\n",
    "    notes = []\n",
    "    notes_to_parse = None\n",
    "\n",
    "    # Parsing a Midi file\n",
    "    midi = converter.parse(file)   ############################      type (<class 'music21.stream.Score'>)\n",
    "\n",
    "    # Grouping based on different instruments\n",
    "    s2 = instrument.partitionByInstrument(midi)   #################      type (<class 'music21.stream.Score'>)\n",
    "\n",
    "    # Iterating over all Parts\n",
    "    for part in s2.parts:\n",
    "        if \"Piano\" in str(part):\n",
    "            # Getting all the elements to parse.\n",
    "            notes_to_parse = part.recurse()      ##########    type(<class 'music21.stream.iterator.StreamIterator'>)\n",
    "        \n",
    "            # Finding whether the particular element is note or chord\n",
    "            for element in notes_to_parse:\n",
    "            \n",
    "                # Getting Notes\n",
    "                if isinstance(element, note.Note):\n",
    "                    notes.append(str(element.pitch))\n",
    "                \n",
    "                # Getting Chord    \n",
    "                elif isinstance(element, chord.Chord):\n",
    "                    notes.append('.'.join(str(n) for n in element.normalOrder))\n",
    "                \n",
    "    return np.array(notes)"
   ]
  },
  {
   "cell_type": "code",
   "execution_count": 8,
   "metadata": {},
   "outputs": [],
   "source": [
    "# Loading all files and getting all their notes\n",
    "midi_audio_files = glob(extraction_path + '/*.mid')\n",
    "notes_ar = np.array([read_files(i) for i in midi_audio_files])"
   ]
  },
  {
   "cell_type": "code",
   "execution_count": 9,
   "metadata": {},
   "outputs": [
    {
     "data": {
      "text/plain": [
       "(29,)"
      ]
     },
     "execution_count": 9,
     "metadata": {},
     "output_type": "execute_result"
    }
   ],
   "source": [
    "# Shape of notes array\n",
    "notes_ar.shape"
   ]
  },
  {
   "cell_type": "code",
   "execution_count": 10,
   "metadata": {},
   "outputs": [
    {
     "data": {
      "text/plain": [
       "(4243,)"
      ]
     },
     "execution_count": 10,
     "metadata": {},
     "output_type": "execute_result"
    }
   ],
   "source": [
    "# Total number of notes in first file\n",
    "notes_ar[0].shape"
   ]
  },
  {
   "cell_type": "code",
   "execution_count": 11,
   "metadata": {},
   "outputs": [],
   "source": [
    "# Storing all the notes in a single list\n",
    "notes = [element for notes in notes_ar for element in notes]"
   ]
  },
  {
   "cell_type": "code",
   "execution_count": 12,
   "metadata": {},
   "outputs": [
    {
     "data": {
      "text/plain": [
       "(66957,)"
      ]
     },
     "execution_count": 12,
     "metadata": {},
     "output_type": "execute_result"
    }
   ],
   "source": [
    "notes = np.array(notes)\n",
    "notes.shape  # Total number of notes we are having as data"
   ]
  },
  {
   "cell_type": "code",
   "execution_count": 13,
   "metadata": {},
   "outputs": [
    {
     "data": {
      "text/plain": [
       "304"
      ]
     },
     "execution_count": 13,
     "metadata": {},
     "output_type": "execute_result"
    }
   ],
   "source": [
    "# No of Unique notes in the piano data\n",
    "unique_notes = list(set(notes))\n",
    "len(unique_notes)"
   ]
  },
  {
   "cell_type": "code",
   "execution_count": 14,
   "metadata": {},
   "outputs": [],
   "source": [
    "# Storing the frequency of each unique notes\n",
    "frequency = dict.fromkeys(unique_notes, 0)\n",
    "for i in notes:\n",
    "    frequency[i] += 1"
   ]
  },
  {
   "cell_type": "markdown",
   "metadata": {},
   "source": [
    "### Plotting the Frequency plot"
   ]
  },
  {
   "cell_type": "code",
   "execution_count": 16,
   "metadata": {},
   "outputs": [
    {
     "data": {
      "text/plain": [
       "<matplotlib.axes._subplots.AxesSubplot at 0x7f192c124950>"
      ]
     },
     "execution_count": 16,
     "metadata": {},
     "output_type": "execute_result"
    },
    {
     "data": {
      "image/png": "[encoded data removed]",
      "text/plain": [
       "<Figure size 432x288 with 1 Axes>"
      ]
     },
     "metadata": {
      "image/png": {
       "height": 248,
       "width": 393
      },
      "needs_background": "light"
     },
     "output_type": "display_data"
    }
   ],
   "source": [
    "freq_values = list(frequency.values())\n",
    "sns.distplot(freq_values, kde=True)  # Plotting the histogram with itd density distribution."
   ]
  },
  {
   "cell_type": "markdown",
   "metadata": {},
   "source": [
    "### Data Preparation"
   ]
  },
  {
   "cell_type": "code",
   "execution_count": 62,
   "metadata": {},
   "outputs": [],
   "source": [
    "# Giving integer value to each notes by its pitch\n",
    "pitchnames = sorted(set(item for item in notes))\n",
    "note_to_int = dict((note, number) for number, note in enumerate(pitchnames))"
   ]
  },
  {
   "cell_type": "code",
   "execution_count": 63,
   "metadata": {},
   "outputs": [],
   "source": [
    "sequence_length = 32\n",
    "X_seq = []\n",
    "y_seq = []\n",
    "\n",
    "# create input sequences and the corresponding outputs\n",
    "for i in range(0, len(notes) - sequence_length):\n",
    "    X = notes[i:i + sequence_length]\n",
    "    y = notes[i + sequence_length]\n",
    "    X_seq.append([note_to_int[note] for note in X])\n",
    "    y_seq.append(note_to_int[y])\n",
    "    \n",
    "# Changing each of them to numpy array\n",
    "X = np.array(X)\n",
    "y = np.array(y)\n",
    "X_seq = np.array(X_seq)\n",
    "y_seq = np.array(y_seq)"
   ]
  },
  {
   "cell_type": "code",
   "execution_count": 64,
   "metadata": {},
   "outputs": [],
   "source": [
    "len_data = len(X_seq)"
   ]
  },
  {
   "cell_type": "code",
   "execution_count": 65,
   "metadata": {},
   "outputs": [],
   "source": [
    "# Reshape the data to prevent the errors during training the model\n",
    "X_seq = np.reshape(X_seq, (len_data, sequence_length, 1))"
   ]
  },
  {
   "cell_type": "code",
   "execution_count": 66,
   "metadata": {},
   "outputs": [],
   "source": [
    "# Matching the output with the output patern of the lstm\n",
    "y_seq = to_categorical(y_seq)"
   ]
  },
  {
   "cell_type": "code",
   "execution_count": 67,
   "metadata": {},
   "outputs": [
    {
     "data": {
      "text/plain": [
       "((66925, 32, 1), (66925, 304))"
      ]
     },
     "execution_count": 67,
     "metadata": {},
     "output_type": "execute_result"
    }
   ],
   "source": [
    "# Printing their shapes\n",
    "X_seq.shape, y_seq.shape"
   ]
  },
  {
   "cell_type": "code",
   "execution_count": 68,
   "metadata": {},
   "outputs": [],
   "source": [
    "# Normalize the Input\n",
    "n_vocab = len(set(notes))\n",
    "X_seq = X_seq/n_vocab"
   ]
  },
  {
   "cell_type": "code",
   "execution_count": 69,
   "metadata": {},
   "outputs": [],
   "source": [
    "# Saving the data for further works\n",
    "with open(os.path.join(os.path.join(working_dir, 'processed_data'), 'input.pkl'),'wb') as f:\n",
    "    pickle.dump(X_seq, f)\n",
    "    \n",
    "with open(os.path.join(os.path.join(working_dir, 'processed_data'), 'output.pkl'),'wb') as f:\n",
    "    pickle.dump(y_seq, f)"
   ]
  },
  {
   "cell_type": "code",
   "execution_count": 70,
   "metadata": {},
   "outputs": [
    {
     "name": "stdout",
     "output_type": "stream",
     "text": [
      "304\n"
     ]
    }
   ],
   "source": [
    "print(n_vocab)"
   ]
  },
  {
   "cell_type": "code",
   "execution_count": null,
   "metadata": {},
   "outputs": [],
   "source": []
  }
 ],
 "metadata": {
  "kernelspec": {
   "display_name": "Python 3",
   "language": "python",
   "name": "python3"
  },
  "language_info": {
   "codemirror_mode": {
    "name": "ipython",
    "version": 3
   },
   "file_extension": ".py",
   "mimetype": "text/x-python",
   "name": "python",
   "nbconvert_exporter": "python",
   "pygments_lexer": "ipython3",
   "version": "3.7.6"
  }
 },
 "nbformat": 4,
 "nbformat_minor": 4
}
