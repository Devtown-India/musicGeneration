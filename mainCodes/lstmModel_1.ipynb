{
 "cells": [
  {
   "cell_type": "markdown",
   "metadata": {},
   "source": [
    "### Importing Statements"
   ]
  },
  {
   "cell_type": "code",
   "execution_count": 1,
   "metadata": {},
   "outputs": [],
   "source": [
    "# Importing statements\n",
    "import numpy as np\n",
    "from sklearn.model_selection import train_test_split\n",
    "import pickle\n",
    "import os\n",
    "import tensorflow as tf\n",
    "from tensorflow.keras.models import Sequential\n",
    "from tensorflow.keras.layers import *\n",
    "import matplotlib.pyplot as plt\n",
    "from music21 import *\n",
    "from tensorflow.keras.models import model_from_json\n",
    "\n",
    "%matplotlib inline"
   ]
  },
  {
   "cell_type": "markdown",
   "metadata": {},
   "source": [
    "### Loading the Data"
   ]
  },
  {
   "cell_type": "code",
   "execution_count": 2,
   "metadata": {},
   "outputs": [],
   "source": [
    "working_dir = \"../datasets\"\n",
    "data_dir = os.path.join(working_dir, \"processed_data\")"
   ]
  },
  {
   "cell_type": "code",
   "execution_count": 3,
   "metadata": {},
   "outputs": [
    {
     "data": {
      "text/plain": [
       "['input_notes.pkl',\n",
       " 'output.pkl',\n",
       " 'input.pkl',\n",
       " 'output_notes.pkl',\n",
       " 'pitchnames.csv']"
      ]
     },
     "execution_count": 3,
     "metadata": {},
     "output_type": "execute_result"
    }
   ],
   "source": [
    "# list of files in the data_dir\n",
    "os.listdir(data_dir)"
   ]
  },
  {
   "cell_type": "code",
   "execution_count": 4,
   "metadata": {},
   "outputs": [],
   "source": [
    "# We have to load input file and output file.\n",
    "with open(os.path.join(data_dir, 'input.pkl'),'rb') as f:\n",
    "    X_seq_ = pickle.load(f)\n",
    "\n",
    "with open(os.path.join(data_dir, 'output.pkl'),'rb') as f:\n",
    "    y_seq_ = pickle.load(f)"
   ]
  },
  {
   "cell_type": "code",
   "execution_count": 5,
   "metadata": {},
   "outputs": [
    {
     "data": {
      "text/plain": [
       "((66925, 32, 1), (66925, 304))"
      ]
     },
     "execution_count": 5,
     "metadata": {},
     "output_type": "execute_result"
    }
   ],
   "source": [
    "# Printing the shape of the Data\n",
    "X_seq_.shape, y_seq_.shape"
   ]
  },
  {
   "cell_type": "code",
   "execution_count": 6,
   "metadata": {},
   "outputs": [],
   "source": [
    "# Normalize the Input\n",
    "n_vocab = 304\n",
    "X_seq = X_seq_/n_vocab\n",
    "y_seq = y_seq_"
   ]
  },
  {
   "cell_type": "markdown",
   "metadata": {},
   "source": [
    "### Splitting the Data"
   ]
  },
  {
   "cell_type": "code",
   "execution_count": 7,
   "metadata": {},
   "outputs": [],
   "source": [
    "X_train, X_test, y_train,y_test = train_test_split(X_seq, y_seq, test_size=0.2, shuffle=True, random_state=0)"
   ]
  },
  {
   "cell_type": "code",
   "execution_count": 8,
   "metadata": {},
   "outputs": [
    {
     "data": {
      "text/plain": [
       "((53540, 32, 1), (13385, 32, 1), (53540, 304), (13385, 304))"
      ]
     },
     "execution_count": 8,
     "metadata": {},
     "output_type": "execute_result"
    }
   ],
   "source": [
    "X_train.shape, X_test.shape, y_train.shape, y_test.shape"
   ]
  },
  {
   "cell_type": "markdown",
   "metadata": {},
   "source": [
    "### Building first Model"
   ]
  },
  {
   "cell_type": "code",
   "execution_count": 9,
   "metadata": {},
   "outputs": [],
   "source": [
    "model = Sequential([\n",
    "    LSTM(units=64, activation=\"relu\", return_sequences=True, input_shape=(X_seq.shape[1], X_seq.shape[2])),\n",
    "    BatchNormalization(),\n",
    "    Dropout(0.2),\n",
    "    \n",
    "    LSTM(units=128, activation=\"relu\", return_sequences=True),\n",
    "    BatchNormalization(),\n",
    "    Dropout(0.3),\n",
    "    \n",
    "    LSTM(units=256, activation=\"relu\"),\n",
    "    BatchNormalization(),\n",
    "    Dropout(0.4),\n",
    "    \n",
    "    Dense(64),\n",
    "    Dropout(0.5),\n",
    "    Dense(64),\n",
    "    \n",
    "    Dense(n_vocab, activation=\"softmax\")\n",
    "    \n",
    "])"
   ]
  },
  {
   "cell_type": "code",
   "execution_count": 10,
   "metadata": {},
   "outputs": [
    {
     "name": "stdout",
     "output_type": "stream",
     "text": [
      "Model: \"sequential\"\n",
      "_________________________________________________________________\n",
      "Layer (type)                 Output Shape              Param #   \n",
      "=================================================================\n",
      "lstm (LSTM)                  (None, 32, 64)            16896     \n",
      "_________________________________________________________________\n",
      "batch_normalization (BatchNo (None, 32, 64)            256       \n",
      "_________________________________________________________________\n",
      "dropout (Dropout)            (None, 32, 64)            0         \n",
      "_________________________________________________________________\n",
      "lstm_1 (LSTM)                (None, 32, 128)           98816     \n",
      "_________________________________________________________________\n",
      "batch_normalization_1 (Batch (None, 32, 128)           512       \n",
      "_________________________________________________________________\n",
      "dropout_1 (Dropout)          (None, 32, 128)           0         \n",
      "_________________________________________________________________\n",
      "lstm_2 (LSTM)                (None, 256)               394240    \n",
      "_________________________________________________________________\n",
      "batch_normalization_2 (Batch (None, 256)               1024      \n",
      "_________________________________________________________________\n",
      "dropout_2 (Dropout)          (None, 256)               0         \n",
      "_________________________________________________________________\n",
      "dense (Dense)                (None, 64)                16448     \n",
      "_________________________________________________________________\n",
      "dropout_3 (Dropout)          (None, 64)                0         \n",
      "_________________________________________________________________\n",
      "dense_1 (Dense)              (None, 64)                4160      \n",
      "_________________________________________________________________\n",
      "dense_2 (Dense)              (None, 304)               19760     \n",
      "=================================================================\n",
      "Total params: 552,112\n",
      "Trainable params: 551,216\n",
      "Non-trainable params: 896\n",
      "_________________________________________________________________\n"
     ]
    }
   ],
   "source": [
    "# Printing the summary of the model\n",
    "model.summary()"
   ]
  },
  {
   "cell_type": "code",
   "execution_count": 11,
   "metadata": {},
   "outputs": [],
   "source": [
    "# Trying Different Loss\n",
    "model.compile(loss='categorical_crossentropy', optimizer='adam')"
   ]
  },
  {
   "cell_type": "code",
   "execution_count": 12,
   "metadata": {},
   "outputs": [
    {
     "name": "stdout",
     "output_type": "stream",
     "text": [
      "Epoch 1/10\n",
      "419/419 [==============================] - 290s 692ms/step - loss: 5.0910 - val_loss: 4.9167\n",
      "Epoch 2/10\n",
      "419/419 [==============================] - 337s 805ms/step - loss: 4.6778 - val_loss: 4.7170\n",
      "Epoch 3/10\n",
      "419/419 [==============================] - 339s 809ms/step - loss: 4.6122 - val_loss: 4.5534\n",
      "Epoch 4/10\n",
      "419/419 [==============================] - 339s 808ms/step - loss: 4.5683 - val_loss: 5.0099\n",
      "Epoch 5/10\n",
      "419/419 [==============================] - 344s 822ms/step - loss: 4.5235 - val_loss: 4.5286\n",
      "Epoch 6/10\n",
      "419/419 [==============================] - 234s 559ms/step - loss: 4.4855 - val_loss: 4.6282\n",
      "Epoch 7/10\n",
      "419/419 [==============================] - 186s 445ms/step - loss: 4.4423 - val_loss: 4.4291\n",
      "Epoch 8/10\n",
      "419/419 [==============================] - 173s 412ms/step - loss: 4.4020 - val_loss: 4.3364\n",
      "Epoch 9/10\n",
      "419/419 [==============================] - 195s 465ms/step - loss: 4.3459 - val_loss: 4.2626\n",
      "Epoch 10/10\n",
      "419/419 [==============================] - 193s 462ms/step - loss: 4.2924 - val_loss: 4.2463\n"
     ]
    }
   ],
   "source": [
    "# Training the model\n",
    "history = model.fit(X_train, y_train, epochs=10, batch_size=128, validation_data=(X_test, y_test))"
   ]
  },
  {
   "cell_type": "code",
   "execution_count": 13,
   "metadata": {},
   "outputs": [],
   "source": [
    "# serialize model to JSON\n",
    "model_path = \"../Models/trainedModels\"\n",
    "model_json = model.to_json()\n",
    "with open(os.path.join(model_path, \"lstmModel1.json\"), \"w\") as json_file:\n",
    "    json_file.write(model_json)"
   ]
  },
  {
   "cell_type": "code",
   "execution_count": 14,
   "metadata": {},
   "outputs": [
    {
     "name": "stdout",
     "output_type": "stream",
     "text": [
      "Saved model to disk\n"
     ]
    }
   ],
   "source": [
    "# serialize weights to HDF5\n",
    "weight_path = \"../Models/weights\"\n",
    "model.save_weights(os.path.join(weight_path, \"lstmModel1.h5\"))\n",
    "print(\"Saved model to disk\")"
   ]
  },
  {
   "cell_type": "code",
   "execution_count": 15,
   "metadata": {},
   "outputs": [
    {
     "data": {
      "text/plain": [
       "[<matplotlib.lines.Line2D at 0x7efd2f2927d0>]"
      ]
     },
     "execution_count": 15,
     "metadata": {},
     "output_type": "execute_result"
    },
    {
     "data": {
      "image/png": "[encoded data removed]",
      "text/plain": [
       "<Figure size 432x288 with 1 Axes>"
      ]
     },
     "metadata": {
      "image/png": {
       "height": 277,
       "width": 385
      },
      "needs_background": "light"
     },
     "output_type": "display_data"
    }
   ],
   "source": [
    "# Plotting the loss curve\n",
    "plt.xlabel('epochs')\n",
    "plt.ylabel('loss value')\n",
    "plt.title('Loss curve for training and testing')\n",
    "plt.plot(history.history['loss'])\n",
    "plt.plot(history.history['val_loss'])"
   ]
  },
  {
   "cell_type": "code",
   "execution_count": 16,
   "metadata": {},
   "outputs": [],
   "source": [
    "# Generating the music\n",
    "# Load all the distinct pitchnames\n",
    "pitchnames = np.genfromtxt(os.path.join(os.path.join(working_dir, 'processed_data'), 'pitchnames.csv'), dtype=str, delimiter=',')\n",
    "\n",
    "# Getting the integer id for each pitch\n",
    "int_to_note = dict((number , note) for number, note in enumerate(pitchnames))"
   ]
  },
  {
   "cell_type": "code",
   "execution_count": null,
   "metadata": {},
   "outputs": [],
   "source": [
    "# predicting the output for test data.\n",
    "y_pred = model.predict(X_test)"
   ]
  },
  {
   "cell_type": "code",
   "execution_count": 55,
   "metadata": {},
   "outputs": [],
   "source": [
    "predicted_notes = []\n",
    "for i in y_pred:\n",
    "    predicted_notes.append(int_to_note[np.argmax(i)]) ############### np.argmax() returns the index of maximum value in the list.\n",
    "    "
   ]
  },
  {
   "cell_type": "code",
   "execution_count": 56,
   "metadata": {},
   "outputs": [],
   "source": [
    "y_seq_ = []\n",
    "for i in y_seq:\n",
    "    y_seq_.append(np.argmax(i))"
   ]
  },
  {
   "cell_type": "code",
   "execution_count": 57,
   "metadata": {},
   "outputs": [
    {
     "data": {
      "text/plain": [
       "[<matplotlib.lines.Line2D at 0x7ff86d959e10>]"
      ]
     },
     "execution_count": 57,
     "metadata": {},
     "output_type": "execute_result"
    },
    {
     "data": {
      "image/png": "[encoded data removed]",
      "text/plain": [
       "<Figure size 432x288 with 1 Axes>"
      ]
     },
     "metadata": {
      "image/png": {
       "height": 248,
       "width": 387
      },
      "needs_background": "light"
     },
     "output_type": "display_data"
    }
   ],
   "source": [
    "# plot between y_test and y_predicted\n",
    "#plt.plot(y_seq_[:100])\n",
    "plt.plot(predicted_notes[:100])"
   ]
  },
  {
   "cell_type": "code",
   "execution_count": 58,
   "metadata": {},
   "outputs": [],
   "source": [
    "# Producing the continuous music\n",
    "n = 100     ################ Number of notes to be produced.\n",
    "# playing random music everytime\n",
    "play = np.random.randint(0, len(X_seq_)-1)\n",
    "\n",
    "current_notes = X_seq_[play]\n",
    "result_ = []\n",
    "\n",
    "# Generating continuous music\n",
    "for index in range(n):\n",
    "    # Making the input suitable for model.\n",
    "    prediction_input = np.reshape(current_notes, (1, len(current_notes), 1))\n",
    "    prediction_input = prediction_input/n_vocab\n",
    "    \n",
    "    # Predicting the next note for the current_notes\n",
    "    predicted_note = model.predict(prediction_input)\n",
    "    \n",
    "    # Getting the most probable note value\n",
    "    predicted_note_index = np.argmax(predicted_note)\n",
    "    predicted_note_value = int_to_note[predicted_note_index]\n",
    "    \n",
    "    # Storing the notes in the result notes list\n",
    "    result_.append(predicted_note_value)\n",
    "    \n",
    "    # Creating new Current note value\n",
    "    current_notes = np.append(current_notes, predicted_note_index)\n",
    "    current_notes = current_notes[1:]"
   ]
  },
  {
   "cell_type": "code",
   "execution_count": 59,
   "metadata": {},
   "outputs": [
    {
     "ename": "ValueError",
     "evalue": "invalid literal for int() with base 10: '4.6.11'",
     "output_type": "error",
     "traceback": [
      "\u001b[0;31m---------------------------------------------------------------------------\u001b[0m",
      "\u001b[0;31mValueError\u001b[0m                                Traceback (most recent call last)",
      "\u001b[0;32m<ipython-input-59-44ac053abafb>\u001b[0m in \u001b[0;36m<module>\u001b[0;34m\u001b[0m\n\u001b[1;32m      8\u001b[0m         \u001b[0mnotes_in_chord\u001b[0m \u001b[0;34m=\u001b[0m \u001b[0mi\u001b[0m\u001b[0;34m.\u001b[0m\u001b[0msplit\u001b[0m\u001b[0;34m(\u001b[0m\u001b[0;34m)\u001b[0m\u001b[0;34m\u001b[0m\u001b[0;34m\u001b[0m\u001b[0m\n\u001b[1;32m      9\u001b[0m         \u001b[0;32mfor\u001b[0m \u001b[0mcurrent_note\u001b[0m \u001b[0;32min\u001b[0m \u001b[0mnotes_in_chord\u001b[0m\u001b[0;34m:\u001b[0m\u001b[0;34m\u001b[0m\u001b[0;34m\u001b[0m\u001b[0m\n\u001b[0;32m---> 10\u001b[0;31m             \u001b[0mnew_note\u001b[0m \u001b[0;34m=\u001b[0m \u001b[0mnote\u001b[0m\u001b[0;34m.\u001b[0m\u001b[0mNote\u001b[0m\u001b[0;34m(\u001b[0m\u001b[0mint\u001b[0m\u001b[0;34m(\u001b[0m\u001b[0mcurrent_note\u001b[0m\u001b[0;34m)\u001b[0m\u001b[0;34m)\u001b[0m\u001b[0;34m\u001b[0m\u001b[0;34m\u001b[0m\u001b[0m\n\u001b[0m\u001b[1;32m     11\u001b[0m             \u001b[0mnew_note\u001b[0m\u001b[0;34m.\u001b[0m\u001b[0mstoredInstrument\u001b[0m \u001b[0;34m=\u001b[0m \u001b[0minstrument\u001b[0m\u001b[0;34m.\u001b[0m\u001b[0mPiano\u001b[0m\u001b[0;34m(\u001b[0m\u001b[0;34m)\u001b[0m\u001b[0;34m\u001b[0m\u001b[0;34m\u001b[0m\u001b[0m\n\u001b[1;32m     12\u001b[0m             \u001b[0mnotes\u001b[0m\u001b[0;34m.\u001b[0m\u001b[0mappend\u001b[0m\u001b[0;34m(\u001b[0m\u001b[0mnew_note\u001b[0m\u001b[0;34m)\u001b[0m\u001b[0;34m\u001b[0m\u001b[0;34m\u001b[0m\u001b[0m\n",
      "\u001b[0;31mValueError\u001b[0m: invalid literal for int() with base 10: '4.6.11'"
     ]
    }
   ],
   "source": [
    "# Splitting all the chords into notes in the result array\n",
    "# Setting note's distance from the beginning.\n",
    "offset = 0\n",
    "output_notes = []\n",
    "\n",
    "for i in result_:\n",
    "    if '.' in i or i.isdigit():\n",
    "        notes_in_chord = i.split()\n",
    "        for current_note in notes_in_chord:\n",
    "            new_note = note.Note(int(current_note))\n",
    "            new_note.storedInstrument = instrument.Piano()\n",
    "            notes.append(new_note)\n",
    "            \n",
    "        new_chord = chord.Chord(notes)\n",
    "        new_chord.offset = offset\n",
    "        output_notes.append(new_chord)\n",
    "        \n",
    "    else:\n",
    "        new_note = note.Note(i)\n",
    "        new_note.offset = offset\n",
    "        new_note.storedInstrument = instrument.Piano()\n",
    "        output_notes.append(new_note)\n",
    "        \n",
    "    offset += 0.5"
   ]
  },
  {
   "cell_type": "code",
   "execution_count": null,
   "metadata": {},
   "outputs": [],
   "source": [
    "# Changing the notes to stream\n",
    "output_path = \"../result\"\n",
    "midi_stream = stream.Stream(output_notes)\n",
    "midi_stream.write('midi', fp=os.path.join(output_path, 'test_output.mid'))"
   ]
  },
  {
   "cell_type": "code",
   "execution_count": null,
   "metadata": {},
   "outputs": [],
   "source": [
    "# import pygame\n",
    "\n",
    "\n",
    "# def play_music(midi_filename):\n",
    "#     '''Stream music_file in a blocking manner'''\n",
    "#     clock = pygame.time.Clock()\n",
    "#     pygame.mixer.music.load(midi_filename)\n",
    "#     pygame.mixer.music.play()\n",
    "#     while pygame.mixer.music.get_busy():\n",
    "#         clock.tick(30) # check if playback has finished\n",
    "    \n",
    "# midi_filename = 'test_output.mid'\n",
    "\n",
    "# # mixer config\n",
    "# freq = 44100  # audio CD quality\n",
    "# bitsize = -16   # unsigned 16 bit\n",
    "# channels = 2  # 1 is mono, 2 is stereo\n",
    "# buffer = 1024   # number of samples\n",
    "# pygame.mixer.init(freq, bitsize, channels, buffer)\n",
    "\n",
    "# # optional volume 0 to 1.0\n",
    "# pygame.mixer.music.set_volume(0.8)\n",
    "\n",
    "# # listen for interruptions\n",
    "# try:\n",
    "#     # use the midi file you just saved\n",
    "#     play_music(midi_filename)\n",
    "# except KeyboardInterrupt:\n",
    "#     # if user hits Ctrl/C then exit\n",
    "#     # (works only in console mode)\n",
    "#     pygame.mixer.music.fadeout(1000)\n",
    "#     pygame.mixer.music.stop()\n",
    "#     raise SystemExit"
   ]
  },
  {
   "cell_type": "code",
   "execution_count": null,
   "metadata": {},
   "outputs": [],
   "source": [
    "# # load json and create model\n",
    "# model_path = \"../Models/trainedModels\"\n",
    "# json_file = open(os.path.join(model_path, 'lstmModel1.json'), 'r')\n",
    "# loaded_model_json = json_file.read()\n",
    "# json_file.close()\n",
    "# loaded_model = model_from_json(loaded_model_json)\n",
    "\n",
    "# # load weights into new model\n",
    "# weight_path = \"../Models/weights\"\n",
    "# loaded_model.load_weights(os.path.join(weight_path, \"lstmModel1.h5\"))\n",
    "# print(\"Loaded model from disk\")"
   ]
  },
  {
   "cell_type": "code",
   "execution_count": null,
   "metadata": {},
   "outputs": [],
   "source": []
  }
 ],
 "metadata": {
  "kernelspec": {
   "display_name": "Python 3",
   "language": "python",
   "name": "python3"
  },
  "language_info": {
   "codemirror_mode": {
    "name": "ipython",
    "version": 3
   },
   "file_extension": ".py",
   "mimetype": "text/x-python",
   "name": "python",
   "nbconvert_exporter": "python",
   "pygments_lexer": "ipython3",
   "version": "3.7.6"
  }
 },
 "nbformat": 4,
 "nbformat_minor": 4
}
