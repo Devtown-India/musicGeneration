{
 "cells": [
  {
   "cell_type": "markdown",
   "metadata": {},
   "source": [
    "## Importing Statements"
   ]
  },
  {
   "cell_type": "code",
   "execution_count": 2,
   "metadata": {},
   "outputs": [],
   "source": [
    "import numpy as np\n",
    "import pandas as pd\n",
    "from music21 import *\n",
    "import matplotlib.pyplot as plt\n",
    "import os\n",
    "import zipfile as zip_\n",
    "\n",
    "%matplotlib inline"
   ]
  },
  {
   "cell_type": "markdown",
   "metadata": {},
   "source": [
    "## Extracting the Data"
   ]
  },
  {
   "cell_type": "code",
   "execution_count": 4,
   "metadata": {},
   "outputs": [],
   "source": [
    "# Path of zip_data  and Path where data is to be extracted\n",
    "working_dir = '../datasets'\n",
    "zip_path = os.path.join(working_dir, 'zip_file/schubert.zip')\n",
    "extraction_path = os.path.join(working_dir, 'midi_data')\n",
    "\n",
    "# Unzipping the Data\n",
    "zip = zip_.ZipFile(zip_path)\n",
    "zip.extractall(extraction_path)"
   ]
  },
  {
   "cell_type": "markdown",
   "metadata": {},
   "source": [
    "## Loading the Data"
   ]
  },
  {
   "cell_type": "code",
   "execution_count": 7,
   "metadata": {},
   "outputs": [
    {
     "data": {
      "text/plain": [
       "['schubert_D850_4.mid',\n",
       " 'schubert_D850_1.mid',\n",
       " 'schuim-4.mid',\n",
       " 'schumm-5.mid',\n",
       " 'schumm-2.mid',\n",
       " 'schumm-4.mid',\n",
       " 'schub_d960_1.mid',\n",
       " 'schubert_D935_2.mid',\n",
       " 'schub_d760_1.mid',\n",
       " 'schuim-2.mid',\n",
       " 'schu_143_3.mid',\n",
       " 'schubert_D850_3.mid',\n",
       " 'schub_d960_3.mid',\n",
       " 'schuim-3.mid',\n",
       " 'schubert_D850_2.mid',\n",
       " 'schuim-1.mid',\n",
       " 'schub_d760_3.mid',\n",
       " 'schu_143_2.mid',\n",
       " 'schub_d760_2.mid',\n",
       " 'schumm-1.mid',\n",
       " 'schub_d760_4.mid',\n",
       " 'schubert_D935_4.mid',\n",
       " 'schu_143_1.mid',\n",
       " 'schumm-6.mid',\n",
       " 'schumm-3.mid',\n",
       " 'schubert_D935_1.mid',\n",
       " 'schubert_D935_3.mid',\n",
       " 'schub_d960_2.mid',\n",
       " 'schub_d960_4.mid']"
      ]
     },
     "execution_count": 7,
     "metadata": {},
     "output_type": "execute_result"
    }
   ],
   "source": [
    "# List of extracted files\n",
    "os.listdir(extraction_path)"
   ]
  },
  {
   "cell_type": "code",
   "execution_count": 22,
   "metadata": {},
   "outputs": [
    {
     "data": {
      "text/plain": [
       "3783"
      ]
     },
     "execution_count": 22,
     "metadata": {},
     "output_type": "execute_result"
    }
   ],
   "source": [
    "# Using Music21 Library for reading the midi files\n",
    "# Reading a single File.\n",
    "\n",
    "notes = []\n",
    "notes_to_parse = None\n",
    "\n",
    "file = os.path.join(extraction_path, 'schuim-4.mid')\n",
    "\n",
    "# Parsing a Midi file\n",
    "midi = converter.parse(file)   ############################      type (<class 'music21.stream.Score'>)\n",
    "\n",
    "# Grouping based on different instruments\n",
    "s2 = instrument.partitionByInstrument(midi)   #################      type (<class 'music21.stream.Score'>)\n",
    "\n",
    "# Iterating over all Parts\n",
    "for part in s2.parts:\n",
    "    if \"Piano\" in str(part):\n",
    "        # Getting all the elements to parse.\n",
    "        notes_to_parse = part.recurse()      ##########    type(<class 'music21.stream.iterator.StreamIterator'>)\n",
    "        \n",
    "        # Finding whether the particular element is note or chord\n",
    "        for element in notes_to_parse:\n",
    "            \n",
    "            # Getting Notes\n",
    "            if isinstance(element, note.Note):\n",
    "                notes.append(str(element.pitch))\n",
    "                \n",
    "            # Getting Chord    \n",
    "            if isinstance(element, chord.Chord):\n",
    "                notes.append('.'.join(str(n) for n in element.normalOrder))\n",
    "                \n",
    "notes = np.array(notes)\n",
    "len(notes)"
   ]
  },
  {
   "cell_type": "code",
   "execution_count": null,
   "metadata": {},
   "outputs": [],
   "source": []
  },
  {
   "cell_type": "code",
   "execution_count": null,
   "metadata": {},
   "outputs": [],
   "source": []
  },
  {
   "cell_type": "code",
   "execution_count": null,
   "metadata": {},
   "outputs": [],
   "source": []
  }
 ],
 "metadata": {
  "kernelspec": {
   "display_name": "Python 3",
   "language": "python",
   "name": "python3"
  },
  "language_info": {
   "codemirror_mode": {
    "name": "ipython",
    "version": 3
   },
   "file_extension": ".py",
   "mimetype": "text/x-python",
   "name": "python",
   "nbconvert_exporter": "python",
   "pygments_lexer": "ipython3",
   "version": "3.7.6"
  }
 },
 "nbformat": 4,
 "nbformat_minor": 4
}
