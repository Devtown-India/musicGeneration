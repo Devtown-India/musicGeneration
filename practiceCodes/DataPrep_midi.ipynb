{
 "cells": [
  {
   "cell_type": "markdown",
   "metadata": {
    "slideshow": {
     "slide_type": "subslide"
    }
   },
   "source": [
    "## Importing Statements"
   ]
  },
  {
   "cell_type": "code",
   "execution_count": 37,
   "metadata": {
    "slideshow": {
     "slide_type": "fragment"
    }
   },
   "outputs": [],
   "source": [
    "import numpy as np\n",
    "import pandas as pd\n",
    "import matplotlib.pyplot as plt\n",
    "import os\n",
    "import zipfile as zip_\n",
    "from glob import glob\n",
    "from music21 import *\n",
    "import pickle\n",
    "\n",
    "%matplotlib inline"
   ]
  },
  {
   "cell_type": "markdown",
   "metadata": {},
   "source": [
    "## Extracting the Data"
   ]
  },
  {
   "cell_type": "code",
   "execution_count": 2,
   "metadata": {},
   "outputs": [],
   "source": [
    "# Path of zip_data  and Path where data is to be extracted\n",
    "working_dir = '../datasets'\n",
    "zip_path = os.path.join(working_dir, 'zip_file/schubert.zip')\n",
    "extraction_path = os.path.join(working_dir, 'midi_data')\n",
    "\n",
    "# Unzipping the Data\n",
    "zip = zip_.ZipFile(zip_path)\n",
    "zip.extractall(extraction_path)"
   ]
  },
  {
   "cell_type": "markdown",
   "metadata": {},
   "source": [
    "## Loading the Data"
   ]
  },
  {
   "cell_type": "code",
   "execution_count": 3,
   "metadata": {},
   "outputs": [
    {
     "data": {
      "text/plain": [
       "['schubert_D850_4.mid',\n",
       " 'schubert_D850_1.mid',\n",
       " 'schuim-4.mid',\n",
       " 'schumm-5.mid',\n",
       " 'schumm-2.mid',\n",
       " 'schumm-4.mid',\n",
       " 'schub_d960_1.mid',\n",
       " 'schubert_D935_2.mid',\n",
       " 'schub_d760_1.mid',\n",
       " 'schuim-2.mid',\n",
       " 'schu_143_3.mid',\n",
       " 'schubert_D850_3.mid',\n",
       " 'schub_d960_3.mid',\n",
       " 'schuim-3.mid',\n",
       " 'schubert_D850_2.mid',\n",
       " 'schuim-1.mid',\n",
       " 'schub_d760_3.mid',\n",
       " 'schu_143_2.mid',\n",
       " 'schub_d760_2.mid',\n",
       " 'schumm-1.mid',\n",
       " 'schub_d760_4.mid',\n",
       " 'schubert_D935_4.mid',\n",
       " 'schu_143_1.mid',\n",
       " 'schumm-6.mid',\n",
       " 'schumm-3.mid',\n",
       " 'schubert_D935_1.mid',\n",
       " 'schubert_D935_3.mid',\n",
       " 'schub_d960_2.mid',\n",
       " 'schub_d960_4.mid']"
      ]
     },
     "execution_count": 3,
     "metadata": {},
     "output_type": "execute_result"
    }
   ],
   "source": [
    "# List of extracted files\n",
    "os.listdir(extraction_path)"
   ]
  },
  {
   "cell_type": "code",
   "execution_count": 4,
   "metadata": {},
   "outputs": [
    {
     "data": {
      "text/plain": [
       "3783"
      ]
     },
     "execution_count": 4,
     "metadata": {},
     "output_type": "execute_result"
    }
   ],
   "source": [
    "# Using Music21 Library for reading the midi files\n",
    "# Reading a single File.\n",
    "\n",
    "notes = []\n",
    "notes_to_parse = None\n",
    "\n",
    "file = os.path.join(extraction_path, 'schuim-4.mid')\n",
    "\n",
    "# Parsing a Midi file\n",
    "midi = converter.parse(file)   ############################      type (<class 'music21.stream.Score'>)\n",
    "\n",
    "# Grouping based on different instruments\n",
    "s2 = instrument.partitionByInstrument(midi)   #################      type (<class 'music21.stream.Score'>)\n",
    "\n",
    "# Iterating over all Parts\n",
    "for part in s2.parts:\n",
    "    if \"Piano\" in str(part):\n",
    "        # Getting all the elements to parse.\n",
    "        notes_to_parse = part.recurse()      ##########    type(<class 'music21.stream.iterator.StreamIterator'>)\n",
    "        \n",
    "        # Finding whether the particular element is note or chord\n",
    "        for element in notes_to_parse:\n",
    "            \n",
    "            # Getting Notes\n",
    "            if isinstance(element, note.Note):\n",
    "                notes.append(str(element.pitch))\n",
    "                \n",
    "            # Getting Chord    \n",
    "            if isinstance(element, chord.Chord):\n",
    "                notes.append('.'.join(str(n) for n in element.normalOrder))\n",
    "                \n",
    "notes = np.array(notes)\n",
    "len(notes)"
   ]
  },
  {
   "cell_type": "code",
   "execution_count": 5,
   "metadata": {},
   "outputs": [],
   "source": [
    "# reading all files\n",
    "def read_files(file):\n",
    "    notes = []\n",
    "    notes_to_parse = None\n",
    "\n",
    "    # Parsing a Midi file\n",
    "    midi = converter.parse(file)   ############################      type (<class 'music21.stream.Score'>)\n",
    "\n",
    "    # Grouping based on different instruments\n",
    "    s2 = instrument.partitionByInstrument(midi)   #################      type (<class 'music21.stream.Score'>)\n",
    "\n",
    "    # Iterating over all Parts\n",
    "    for part in s2.parts:\n",
    "        if \"Piano\" in str(part):\n",
    "            # Getting all the elements to parse.\n",
    "            notes_to_parse = part.recurse()      ##########    type(<class 'music21.stream.iterator.StreamIterator'>)\n",
    "        \n",
    "            # Finding whether the particular element is note or chord\n",
    "            for element in notes_to_parse:\n",
    "            \n",
    "                # Getting Notes\n",
    "                if isinstance(element, note.Note):\n",
    "                    notes.append(str(element.pitch))\n",
    "                \n",
    "                # Getting Chord    \n",
    "                elif isinstance(element, chord.Chord):\n",
    "                    notes.append('.'.join(str(n) for n in element.normalOrder))\n",
    "                \n",
    "    return np.array(notes)    "
   ]
  },
  {
   "cell_type": "code",
   "execution_count": 6,
   "metadata": {},
   "outputs": [],
   "source": [
    "# Loading all files and getting all their notes\n",
    "midi_audio_files = glob(extraction_path + '/*.mid')\n",
    "notes_ar = np.array([read_files(i) for i in midi_audio_files])"
   ]
  },
  {
   "cell_type": "code",
   "execution_count": 7,
   "metadata": {},
   "outputs": [
    {
     "data": {
      "text/plain": [
       "(29,)"
      ]
     },
     "execution_count": 7,
     "metadata": {},
     "output_type": "execute_result"
    }
   ],
   "source": [
    "notes_ar.shape"
   ]
  },
  {
   "cell_type": "code",
   "execution_count": 8,
   "metadata": {},
   "outputs": [
    {
     "data": {
      "text/plain": [
       "(4243,)"
      ]
     },
     "execution_count": 8,
     "metadata": {},
     "output_type": "execute_result"
    }
   ],
   "source": [
    "notes_ar[0].shape"
   ]
  },
  {
   "cell_type": "code",
   "execution_count": 9,
   "metadata": {},
   "outputs": [],
   "source": [
    "notes = [element for notes in notes_ar for element in notes]"
   ]
  },
  {
   "cell_type": "code",
   "execution_count": 10,
   "metadata": {},
   "outputs": [
    {
     "data": {
      "text/plain": [
       "(66957,)"
      ]
     },
     "execution_count": 10,
     "metadata": {},
     "output_type": "execute_result"
    }
   ],
   "source": [
    "notes = np.array(notes)\n",
    "notes.shape"
   ]
  },
  {
   "cell_type": "code",
   "execution_count": 11,
   "metadata": {},
   "outputs": [
    {
     "data": {
      "text/plain": [
       "304"
      ]
     },
     "execution_count": 11,
     "metadata": {},
     "output_type": "execute_result"
    }
   ],
   "source": [
    "# No of Unique notes\n",
    "unique_notes = list(set(notes))\n",
    "len(unique_notes)"
   ]
  },
  {
   "cell_type": "code",
   "execution_count": 12,
   "metadata": {},
   "outputs": [],
   "source": [
    "# Counting all notes\n",
    "frequency = dict.fromkeys(unique_notes, 0)\n",
    "for i in notes:\n",
    "    frequency[i] += 1"
   ]
  },
  {
   "cell_type": "code",
   "execution_count": 13,
   "metadata": {},
   "outputs": [],
   "source": [
    "import seaborn as sns\n",
    "freq_values = list(frequency.values())"
   ]
  },
  {
   "cell_type": "code",
   "execution_count": 14,
   "metadata": {},
   "outputs": [
    {
     "data": {
      "text/plain": [
       "<matplotlib.axes._subplots.AxesSubplot at 0x7f85abbee450>"
      ]
     },
     "execution_count": 14,
     "metadata": {},
     "output_type": "execute_result"
    },
    {
     "data": {
      "image/png": "[encoded data removed]",
      "text/plain": [
       "<Figure size 432x288 with 1 Axes>"
      ]
     },
     "metadata": {
      "image/png": {
       "height": 248,
       "width": 393
      },
      "needs_background": "light"
     },
     "output_type": "display_data"
    }
   ],
   "source": [
    "sns.distplot(freq_values, kde=True)"
   ]
  },
  {
   "cell_type": "code",
   "execution_count": 15,
   "metadata": {},
   "outputs": [
    {
     "data": {
      "text/plain": [
       "(array([187.,  41.,  26.,  11.,   6.,   9.,  12.,   6.,   3.,   3.]),\n",
       " array([1.0000e+00, 1.4790e+02, 2.9480e+02, 4.4170e+02, 5.8860e+02,\n",
       "        7.3550e+02, 8.8240e+02, 1.0293e+03, 1.1762e+03, 1.3231e+03,\n",
       "        1.4700e+03]),\n",
       " <a list of 10 Patch objects>)"
      ]
     },
     "execution_count": 15,
     "metadata": {},
     "output_type": "execute_result"
    },
    {
     "data": {
      "image/png": "[encoded data removed]",
      "text/plain": [
       "<Figure size 432x288 with 1 Axes>"
      ]
     },
     "metadata": {
      "image/png": {
       "height": 248,
       "width": 375
      },
      "needs_background": "light"
     },
     "output_type": "display_data"
    }
   ],
   "source": [
    "plt.hist(freq_values)"
   ]
  },
  {
   "cell_type": "markdown",
   "metadata": {},
   "source": [
    "### Cleaning the Data"
   ]
  },
  {
   "cell_type": "code",
   "execution_count": 16,
   "metadata": {},
   "outputs": [],
   "source": [
    "# Removing Those notes which are having frequency less than 30.\n",
    "final_notes = [note for note, count in frequency.items() if count >=  30]"
   ]
  },
  {
   "cell_type": "code",
   "execution_count": 17,
   "metadata": {},
   "outputs": [
    {
     "data": {
      "text/plain": [
       "189"
      ]
     },
     "execution_count": 17,
     "metadata": {},
     "output_type": "execute_result"
    }
   ],
   "source": [
    "# Total number of unique notes which have frequency greater than 30\n",
    "len(final_notes)"
   ]
  },
  {
   "cell_type": "code",
   "execution_count": 18,
   "metadata": {},
   "outputs": [],
   "source": [
    "# Out of 304 unique notes, there are only 189 notes which have frequency greater than 30"
   ]
  },
  {
   "cell_type": "code",
   "execution_count": 19,
   "metadata": {},
   "outputs": [],
   "source": [
    "new_music = []\n",
    "for notes in notes_ar:\n",
    "    temp = []\n",
    "    for note in notes:\n",
    "        if note in final_notes:\n",
    "            temp.append(note)\n",
    "    new_music.append(temp)\n",
    "    \n",
    "# Changing the new music array to numpy array\n",
    "new_music = np.array(new_music)"
   ]
  },
  {
   "cell_type": "markdown",
   "metadata": {},
   "source": [
    "### Preparation of the Data"
   ]
  },
  {
   "cell_type": "code",
   "execution_count": 20,
   "metadata": {},
   "outputs": [],
   "source": [
    "# Preparation of the Data\n",
    "timestep = 32\n",
    "\n",
    "X = []\n",
    "y = []\n",
    "\n",
    "for notes in new_music:\n",
    "    for i in range(32, len(notes)):\n",
    "        input_ = notes[i-32: i]\n",
    "        output_ = notes[i]\n",
    "        \n",
    "        X.append(input_)\n",
    "        y.append(output_)\n",
    "        \n",
    "X = np.array(X)\n",
    "y = np.array(y)"
   ]
  },
  {
   "cell_type": "code",
   "execution_count": 21,
   "metadata": {},
   "outputs": [
    {
     "data": {
      "text/plain": [
       "((65268, 32), (65268,))"
      ]
     },
     "execution_count": 21,
     "metadata": {},
     "output_type": "execute_result"
    }
   ],
   "source": [
    "X.shape, y.shape"
   ]
  },
  {
   "cell_type": "code",
   "execution_count": 32,
   "metadata": {},
   "outputs": [],
   "source": [
    "# Enumeration of the notes in the input data\n",
    "unique_X_notes = list(set(X.reshape(-1)))\n",
    "X_notes_index = dict((note, i) for i, note in enumerate(unique_X_notes))\n",
    "\n",
    "# Enumeration of the notes in the output data\n",
    "unique_y_notes = list(set(y.reshape(-1)))\n",
    "y_notes_index = dict((note, i) for i, note in enumerate(unique_y_notes))"
   ]
  },
  {
   "cell_type": "code",
   "execution_count": 35,
   "metadata": {},
   "outputs": [],
   "source": [
    "# Preparing integer sequence of the input data\n",
    "X_seq = []\n",
    "\n",
    "for i in X:\n",
    "    temp = []\n",
    "    for j in i:\n",
    "        temp.append(X_notes_index[j])\n",
    "    X_seq.append(temp)\n",
    "    \n",
    "X_seq = np.array(X_seq)\n",
    "\n",
    "\n",
    "# Preparing integer sequence of output data\n",
    "y_seq = []\n",
    "for i in y:\n",
    "    y_seq.append(y_notes_index[i])\n",
    "\n",
    "y_seq = np.array(y_seq)"
   ]
  },
  {
   "cell_type": "code",
   "execution_count": 36,
   "metadata": {},
   "outputs": [
    {
     "data": {
      "text/plain": [
       "((65268, 32), (65268,))"
      ]
     },
     "execution_count": 36,
     "metadata": {},
     "output_type": "execute_result"
    }
   ],
   "source": [
    "# Printing shape of the Integer Sequenced Data\n",
    "X_seq.shape, y_seq.shape"
   ]
  },
  {
   "cell_type": "code",
   "execution_count": 43,
   "metadata": {},
   "outputs": [],
   "source": [
    "# Saving the data for further works\n",
    "with open(os.path.join(os.path.join(working_dir, 'processed_data'), 'input_notes.pkl'),'wb') as f:\n",
    "    pickle.dump(X, f)\n",
    "    \n",
    "with open(os.path.join(os.path.join(working_dir, 'processed_data'), 'output_notes.pkl'),'wb') as f:\n",
    "    pickle.dump(y, f)"
   ]
  },
  {
   "cell_type": "code",
   "execution_count": 44,
   "metadata": {},
   "outputs": [],
   "source": [
    "# Saving the data for further works\n",
    "with open(os.path.join(os.path.join(working_dir, 'processed_data'), 'input.pkl'),'wb') as f:\n",
    "    pickle.dump(X_seq, f)\n",
    "    \n",
    "with open(os.path.join(os.path.join(working_dir, 'processed_data'), 'output.pkl'),'wb') as f:\n",
    "    pickle.dump(y_seq, f)"
   ]
  },
  {
   "cell_type": "code",
   "execution_count": 45,
   "metadata": {},
   "outputs": [],
   "source": [
    "# Loading the Data\n",
    "with open(os.path.join(os.path.join(working_dir, 'processed_data'), 'input.pkl'),'rb') as f:\n",
    "    X_seq = pickle.load(f)\n",
    "\n",
    "with open(os.path.join(os.path.join(working_dir, 'processed_data'), 'output.pkl'),'rb') as f:\n",
    "    y_seq = pickle.load(f)"
   ]
  },
  {
   "cell_type": "code",
   "execution_count": 46,
   "metadata": {},
   "outputs": [
    {
     "data": {
      "text/plain": [
       "((65268, 32), (65268,))"
      ]
     },
     "execution_count": 46,
     "metadata": {},
     "output_type": "execute_result"
    }
   ],
   "source": [
    "# Printing the shape of the Data\n",
    "X.shape, y.shape"
   ]
  },
  {
   "cell_type": "code",
   "execution_count": null,
   "metadata": {},
   "outputs": [],
   "source": []
  }
 ],
 "metadata": {
  "kernelspec": {
   "display_name": "Python 3",
   "language": "python",
   "name": "python3"
  },
  "language_info": {
   "codemirror_mode": {
    "name": "ipython",
    "version": 3
   },
   "file_extension": ".py",
   "mimetype": "text/x-python",
   "name": "python",
   "nbconvert_exporter": "python",
   "pygments_lexer": "ipython3",
   "version": "3.7.6"
  }
 },
 "nbformat": 4,
 "nbformat_minor": 4
}
